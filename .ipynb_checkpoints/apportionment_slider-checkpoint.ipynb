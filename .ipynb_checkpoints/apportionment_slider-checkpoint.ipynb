{
 "cells": [
  {
   "cell_type": "code",
   "execution_count": 61,
   "id": "stunning-press",
   "metadata": {},
   "outputs": [],
   "source": [
    "from ipywidgets import interact, interactive, fixed, interact_manual, interactive_output\n",
    "import ipywidgets as widgets\n",
    "import math\n",
    "from IPython.display import display\n",
    "import matplotlib.pyplot as plt\n",
    "import numpy as np"
   ]
  },
  {
   "cell_type": "code",
   "execution_count": 117,
   "id": "hazardous-burner",
   "metadata": {},
   "outputs": [
    {
     "data": {
      "application/vnd.jupyter.widget-view+json": {
       "model_id": "e48bf139b5e1457aa42e61300ee7589a",
       "version_major": 2,
       "version_minor": 0
      },
      "text/plain": [
       "interactive(children=(FloatSlider(value=1298.0, description='tot_pop', max=1348.0, min=1248.0, step=1.0), Outp…"
      ]
     },
     "metadata": {},
     "output_type": "display_data"
    }
   ],
   "source": [
    "## TODO: turn this into one bar chart with multiple groups of bars\n",
    "## TODO: huntington hill\n",
    "\n",
    "def jeffersons_method(state_pops, num_seats, tot_pop):\n",
    "    \"\"\"\n",
    "    returns a list of the number of seats for each state by rounding down\n",
    "    params: \n",
    "        state_pops: list of populations of states\n",
    "        tot_pop: the populations of each \n",
    "        num_seats: the goal number of seats\n",
    "    return:\n",
    "        list of seats for each state corresponding to state_pops list\n",
    "    \"\"\"\n",
    "    return [math.floor(x / (tot_pop / num_seats)) for x in state_pops]\n",
    "\n",
    "def adams_method(state_pops, num_seats, tot_pop):\n",
    "    return [math.ceil(x / (tot_pop / num_seats)) for x in state_pops]\n",
    "\n",
    "def websters_method(state_pops, num_seats, tot_pop):\n",
    "    return [round(x / (tot_pop / num_seats)) for x in state_pops]\n",
    "\n",
    "def huntington_hill_method(state_pops, num_seats, tot_pop):\n",
    "    #TODO\n",
    "    return None\n",
    "\n",
    "def plot_histogram(methods, state_pops, num_seats, tot_pop):\n",
    "    for method in methods:\n",
    "        quotas = method(state_pops, num_seats, tot_pop)\n",
    "\n",
    "        fig = plt.figure()\n",
    "        ax = fig.add_axes([0,0,1,1])\n",
    "        plt.ylim(0, num_seats+10)\n",
    "        ax.axhline(num_seats,color=\"lightgreen\",linewidth=2)\n",
    "        plt.xlabel(\"states\")\n",
    "        plt.ylabel(\"number of seats\")\n",
    "        plt.title(method.__name__)\n",
    "        ax.bar([chr(i) for i in range(ord('A'),ord('A')+len(quotas))] + [\"total seats\"], \n",
    "               quotas + [sum(quotas)])\n",
    "        plt.show()\n",
    "    return\n",
    "\n",
    "def main():\n",
    "    state_pops = [505,492,301]\n",
    "    tot_pop = sum(state_pops)\n",
    "    \n",
    "    x = 50 # change this to be slightly higher than what you actually need\n",
    "    methods = [jeffersons_method, adams_method, websters_method]\n",
    "    quotas = interactive(plot_histogram,\n",
    "                      methods=fixed(methods), \n",
    "                      state_pops=fixed(state_pops), \n",
    "                      num_seats=fixed(100), \n",
    "                      tot_pop=widgets.FloatSlider(min=max(0,tot_pop-x), max=tot_pop+x, step=1, value=tot_pop))\n",
    "    quotas.layout.height = '2000px'\n",
    "    display(quotas)\n",
    "\n",
    "    \n",
    "main()"
   ]
  },
  {
   "cell_type": "code",
   "execution_count": null,
   "id": "suburban-drove",
   "metadata": {},
   "outputs": [],
   "source": []
  },
  {
   "cell_type": "code",
   "execution_count": null,
   "id": "passing-defendant",
   "metadata": {},
   "outputs": [],
   "source": []
  },
  {
   "cell_type": "code",
   "execution_count": null,
   "id": "green-smile",
   "metadata": {},
   "outputs": [],
   "source": []
  }
 ],
 "metadata": {
  "kernelspec": {
   "display_name": "Python 3",
   "language": "python",
   "name": "python3"
  },
  "language_info": {
   "codemirror_mode": {
    "name": "ipython",
    "version": 3
   },
   "file_extension": ".py",
   "mimetype": "text/x-python",
   "name": "python",
   "nbconvert_exporter": "python",
   "pygments_lexer": "ipython3",
   "version": "3.7.9"
  }
 },
 "nbformat": 4,
 "nbformat_minor": 5
}
