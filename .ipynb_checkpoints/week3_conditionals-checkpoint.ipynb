{
 "cells": [
  {
   "cell_type": "markdown",
   "id": "fewer-being",
   "metadata": {},
   "source": [
    "### Conditionals in python\n",
    "\n",
    "Last time, we learned how to:\n",
    "* make variables like integers, floats, strings, and booleans; \n",
    "* use basic operations like + , - , * , / \n",
    "* use the \"print()\" operation to print from our code\n",
    "\n",
    "**Recall that to run code in these cells, press the play button in the sidebar, or use the keys Shift+Enter!**\n",
    "\n",
    "**Example.** The code below creates a variable called \"a\" with the value of 3. \n",
    "Then, it reassigns the value of \"a\" to be \"a+4\", which is 7. \n",
    "Finally, it prints a sentence stating the value of \"a\"."
   ]
  },
  {
   "cell_type": "code",
   "execution_count": 6,
   "id": "crazy-richardson",
   "metadata": {},
   "outputs": [
    {
     "name": "stdout",
     "output_type": "stream",
     "text": [
      "The value of a is 7.\n"
     ]
    }
   ],
   "source": [
    "a = 3\n",
    "a = a + 4\n",
    "print(\"The value of a is \" + str(a) + \".\")"
   ]
  },
  {
   "cell_type": "markdown",
   "id": "national-election",
   "metadata": {},
   "source": [
    "All of our code so far has been **sequential**, that is, each line runs in order, starting from the first line.\n",
    "\n",
    "**Conditional statements** allow us to write programs that don't necessarily run every line of code.\n",
    "\n",
    "For example, I might think \"If I am hungry, then I will eat.\" If the first clause of this sentence is **true** (\"I am hungry\"), then I will complete the second clause (\"I will eat\")."
   ]
  },
  {
   "cell_type": "markdown",
   "id": "micro-vanilla",
   "metadata": {},
   "source": [
    "### The `if` statement\n",
    "\n",
    "The `if` statement in python allows us to write code that tells the program to run certain lines based on the truth of a condition.\n",
    "\n",
    "It takes the following form, where \\<condition> evaluates to `True` or `False` and \\<statements> are lines of code:\n",
    ">`if <condition>:\n",
    ">    <statement(s)>`\n",
    "\n",
    "And yes, indentation matters!\n",
    "\n",
    "**Example.** Here, the condition is \"True\" and the statement is \"print(\"The condition is true.\")\"."
   ]
  },
  {
   "cell_type": "code",
   "execution_count": 15,
   "id": "quiet-pepper",
   "metadata": {},
   "outputs": [
    {
     "name": "stdout",
     "output_type": "stream",
     "text": [
      "The condition is true.\n",
      "We are outside the if statement.\n"
     ]
    }
   ],
   "source": [
    "if True:\n",
    "    print(\"The condition is true.\")\n",
    "print(\"We are outside the if statement.\")"
   ]
  },
  {
   "cell_type": "markdown",
   "id": "democratic-twelve",
   "metadata": {},
   "source": [
    "**Task 1.** Write an if statement where the condition is `False`, and the body prints \"The condition is false.\" What happens?"
   ]
  },
  {
   "cell_type": "code",
   "execution_count": null,
   "id": "federal-latest",
   "metadata": {},
   "outputs": [],
   "source": []
  },
  {
   "cell_type": "markdown",
   "id": "centered-flashing",
   "metadata": {},
   "source": [
    "### Conditional expressions\n",
    "\n",
    "It's been cool to write if statements so far, but it would be much cooler if we could write **conditions** that are more interesting than just `True` or `False`. We can write conditions based on variables in our program.\n",
    "\n",
    "Some **conditional operators** are:\n",
    "* `<` (less than)\n",
    "* `>` (greater than)\n",
    "* `<=` (less than or equal to)\n",
    "* `>=` (greater than or equal to)\n",
    "* `==` (equal to)\n",
    "\n",
    "Note that \"equal to\" is a double equals sign `==`. As we saw last time, the single equals sign `=` is the assignment operator.\n",
    "\n",
    "**Example.** Try changing the values of a and b."
   ]
  },
  {
   "cell_type": "code",
   "execution_count": 9,
   "id": "molecular-owner",
   "metadata": {},
   "outputs": [
    {
     "name": "stdout",
     "output_type": "stream",
     "text": [
      "True\n",
      "False\n",
      "True\n",
      "False\n",
      "False\n"
     ]
    }
   ],
   "source": [
    "a = 3\n",
    "b = 4\n",
    "print(a < b)\n",
    "print(a > b)\n",
    "print(a <= b)\n",
    "print(a >= b)\n",
    "print(a == b)"
   ]
  },
  {
   "cell_type": "markdown",
   "id": "interim-dining",
   "metadata": {},
   "source": [
    "**Task 2.** Compare the values of 100 and 200 in a way that evaluates to False. Print the result."
   ]
  },
  {
   "cell_type": "code",
   "execution_count": null,
   "id": "instrumental-alloy",
   "metadata": {},
   "outputs": [],
   "source": []
  },
  {
   "cell_type": "markdown",
   "id": "passing-google",
   "metadata": {},
   "source": [
    "**Task 3.** Compare -12 and 4 in a way that evaluates to True, and print the result."
   ]
  },
  {
   "cell_type": "code",
   "execution_count": null,
   "id": "opponent-fruit",
   "metadata": {},
   "outputs": [],
   "source": []
  },
  {
   "cell_type": "markdown",
   "id": "arctic-sheriff",
   "metadata": {},
   "source": [
    "We can also string conditions together using `and`, `or`, and `not`.\n",
    "\n",
    "**Question.** Does the following expression depend on the values of a and b?"
   ]
  },
  {
   "cell_type": "code",
   "execution_count": 10,
   "id": "thousand-designer",
   "metadata": {},
   "outputs": [
    {
     "name": "stdout",
     "output_type": "stream",
     "text": [
      "False\n"
     ]
    }
   ],
   "source": [
    "a = 3\n",
    "b = 5\n",
    "print(a < b and a > b)"
   ]
  },
  {
   "cell_type": "markdown",
   "id": "simple-spirit",
   "metadata": {},
   "source": [
    "**Task 4.** Create a variable called `x` with the value 4, and a variable called `y` with the value 5. Write a condition that is True when `x` is between `y` and `y + 4`."
   ]
  },
  {
   "cell_type": "code",
   "execution_count": null,
   "id": "activated-batman",
   "metadata": {},
   "outputs": [],
   "source": []
  },
  {
   "cell_type": "markdown",
   "id": "modern-copying",
   "metadata": {},
   "source": [
    "### Back to `if`, `elif`, and `else` \n",
    "\n",
    "Now that we have more interesting **conditions**, we can write more interesting `if` statements!\n",
    "\n",
    "**Task 5.** Create a variable `c` with the value 12 and `d` with the value 0. Write an if statement that prints \"c is greater than d\" if c is greater than d."
   ]
  },
  {
   "cell_type": "code",
   "execution_count": null,
   "id": "refined-newspaper",
   "metadata": {},
   "outputs": [],
   "source": []
  },
  {
   "cell_type": "markdown",
   "id": "humanitarian-fabric",
   "metadata": {},
   "source": [
    "What happens if we have more than one condition that we want to check? \n",
    "We can write blocks like this: "
   ]
  },
  {
   "cell_type": "code",
   "execution_count": 13,
   "id": "rocky-direction",
   "metadata": {},
   "outputs": [
    {
     "name": "stdout",
     "output_type": "stream",
     "text": [
      "a is equal to b.\n"
     ]
    }
   ],
   "source": [
    "a = 3\n",
    "b = 3\n",
    "if a > b:\n",
    "    print(\"a is greater than b.\")\n",
    "elif a == b:\n",
    "    print(\"a is equal to b.\")\n",
    "else: \n",
    "    print(\"a is less than b.\")"
   ]
  },
  {
   "cell_type": "markdown",
   "id": "popular-cleaning",
   "metadata": {},
   "source": [
    "In the above code, `elif` is a way to say \"if the previous conditions were not true, but this one is, go inside the block.\"\n",
    "\n",
    "We use `else` as a way to say \"if none of the previous conditions were true, go inside this block.\"\n",
    "\n",
    "#### Control Flow\n",
    "\n",
    "If the program enters any of the `if`, `elif`, or `else` blocks, it executes the code inside that block, and then leaves the entire if statement. In other words, the code can only enter one such block.\n",
    "\n",
    "**Example.** Since the program enters if statement at the first block, it does not execute the code in the second block even though the condition `a >= b` is True."
   ]
  },
  {
   "cell_type": "code",
   "execution_count": 14,
   "id": "boring-diving",
   "metadata": {},
   "outputs": [
    {
     "name": "stdout",
     "output_type": "stream",
     "text": [
      "a is greater than b.\n"
     ]
    }
   ],
   "source": [
    "a = 4\n",
    "b = 3\n",
    "if a > b:\n",
    "    print(\"a is greater than b.\")\n",
    "elif a >= b:\n",
    "    print(\"a is equal to b.\")"
   ]
  },
  {
   "cell_type": "markdown",
   "id": "french-maintenance",
   "metadata": {},
   "source": [
    "### More exercises\n",
    "\n",
    "**Task 6.** Create a variable called age and assign its value to be your own age. Using if statements, print the sentence \"You are an adult\" if you are over the age of 18, and \"You are a minor\" otherwise."
   ]
  },
  {
   "cell_type": "code",
   "execution_count": null,
   "id": "cleared-mixer",
   "metadata": {},
   "outputs": [],
   "source": []
  },
  {
   "cell_type": "markdown",
   "id": "heavy-group",
   "metadata": {},
   "source": [
    "**Task 7.** No one said we can't put if statements inside if statements! Using your answer to the previous task, add code that tells you if you are a teenager, in your twenties, in your thirties, or over forty!"
   ]
  },
  {
   "cell_type": "code",
   "execution_count": null,
   "id": "characteristic-drink",
   "metadata": {},
   "outputs": [],
   "source": []
  }
 ],
 "metadata": {
  "kernelspec": {
   "display_name": "Python 3",
   "language": "python",
   "name": "python3"
  },
  "language_info": {
   "codemirror_mode": {
    "name": "ipython",
    "version": 3
   },
   "file_extension": ".py",
   "mimetype": "text/x-python",
   "name": "python",
   "nbconvert_exporter": "python",
   "pygments_lexer": "ipython3",
   "version": "3.7.9"
  }
 },
 "nbformat": 4,
 "nbformat_minor": 5
}
