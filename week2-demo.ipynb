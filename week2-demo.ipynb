{
 "cells": [
  {
   "cell_type": "code",
   "execution_count": 9,
   "metadata": {
    "colab": {
     "base_uri": "https://localhost:8080/"
    },
    "executionInfo": {
     "elapsed": 60429,
     "status": "ok",
     "timestamp": 1612882128264,
     "user": {
      "displayName": "Talia Blum",
      "photoUrl": "",
      "userId": "12977493366065067313"
     },
     "user_tz": 300
    },
    "id": "w5eslPGbc7ES",
    "outputId": "994a8f26-1896-4f85-ace3-291b9e74abc6"
   },
   "outputs": [
    {
     "name": "stdout",
     "output_type": "stream",
     "text": [
      "How many candidates are running?\n",
      "4\n",
      "How many voters are there?\n",
      "7\n",
      "Input the reduced preference schedule: \n",
      "The candidate names are ['A', 'B', 'C', 'D']\n",
      "Please input candidate orderings with no spaces, e.g. ABCD or DACBE\n",
      "Input the next candidate ordering: \n",
      "ABCD\n",
      "How many voters had the preference ABCD?\n",
      "1\n",
      "Input the next candidate ordering: \n",
      "BCAD\n",
      "How many voters had the preference BCAD?\n",
      "2\n",
      "Input the next candidate ordering: \n",
      "DACB\n",
      "How many voters had the preference DACB?\n",
      "3\n",
      "Input the next candidate ordering: \n",
      "ACBD\n",
      "How many voters had the preference ACBD?\n",
      "1\n",
      "The winner set by the plurality method is ['D'].\n",
      "The winner set by the Borda count method is ['A'].\n"
     ]
    }
   ],
   "source": [
    "import itertools\n",
    "\n",
    "def get_int_input():\n",
    "  while True:\n",
    "    a = input()\n",
    "    try:\n",
    "      a = int(a)\n",
    "      if a < 0:\n",
    "        print(\"Please enter a positive integer.\")\n",
    "      else:\n",
    "        return a\n",
    "    except:\n",
    "      print(\"Please enter an integer.\") \n",
    "\n",
    "def get_pref_input():\n",
    "  return input()\n",
    "\n",
    "def get_num_candidates_from_pref_schedule(pref_schedule):\n",
    "  '''\n",
    "    input: \n",
    "      pref_schedule is dictionary: \n",
    "        keys are tuples of candidate names, \n",
    "        values are number of votes\n",
    "    output:\n",
    "      number of distinct candidates\n",
    "  '''\n",
    "  prefs = pref_schedule.keys()\n",
    "  candidates = set([candidate for pref in prefs for candidate in pref])\n",
    "  return len(candidates)\n",
    "\n",
    "def get_candidate_list(num_candidates):\n",
    "  '''\n",
    "    input: number of candidates\n",
    "    output: list of letters ['A', 'B', 'C', ... ] of length num_candidates\n",
    "  '''\n",
    "  return [chr(candidate) for candidate in range(ord('A'), ord('A')+num_candidates)]\n",
    "\n",
    "def get_winner_set(votes):\n",
    "  '''\n",
    "    input: \n",
    "      votes is a dictionary: keys are candidates, values are numbers of votes\n",
    "    output:\n",
    "      list of candidates who got the max number of votes\n",
    "  '''\n",
    "  most_votes = max(votes.values())\n",
    "  winners = []\n",
    "  for candidate in votes.keys():\n",
    "    if votes[candidate] == most_votes:\n",
    "      winners += [candidate]\n",
    "  return winners\n",
    "\n",
    "def get_plurality_winner(pref_schedule):\n",
    "  '''\n",
    "    input: \n",
    "      pref_schedule is dictionary: \n",
    "        keys are tuples of candidate names, \n",
    "        values are number of votes\n",
    "    output:\n",
    "      list of candidate names who would win by plurality vote\n",
    "  '''\n",
    "  num_candidates = get_num_candidates_from_pref_schedule(pref_schedule)\n",
    "  # votes is a dictionary: keys are candidates and values are number of first place votes\n",
    "  votes = dict()\n",
    "  for pref in pref_schedule.keys():\n",
    "    candidate = pref[0]\n",
    "    new_votes = pref_schedule[pref]\n",
    "    if candidate not in votes.keys():\n",
    "      votes[candidate] = new_votes\n",
    "    else:\n",
    "      votes[candidate] += new_votes\n",
    "  # find the candidate(s) with the most votes\n",
    "  return get_winner_set(votes)\n",
    "\n",
    "def get_borda_winner(pref_schedule):\n",
    "  '''\n",
    "    input: \n",
    "      pref_schedule is dictionary: \n",
    "        keys are tuples of candidate names, \n",
    "        values are number of votes\n",
    "    output:\n",
    "      list of candidate names who would win by plurality vote\n",
    "  '''\n",
    "  num_candidates = get_num_candidates_from_pref_schedule(pref_schedule)\n",
    "  # votes is a dictionary: keys are candidates and values are number of borda votes\n",
    "  votes = dict()\n",
    "  for pref in pref_schedule.keys():\n",
    "    n = num_candidates #vote counter\n",
    "    new_votes = pref_schedule[pref]\n",
    "    for candidate in pref:\n",
    "      if candidate not in votes.keys():\n",
    "        votes[candidate] = new_votes * n\n",
    "      else:\n",
    "        votes[candidate] += new_votes * n\n",
    "      n -= 1\n",
    "  return get_winner_set(votes)\n",
    "    \n",
    "\n",
    "def get_input_pref_schedule_by_permutation(num_candidates, num_voters):\n",
    "  '''\n",
    "    loops over all permutations of possible orderings of candidates \n",
    "    and asks for number of voters with those preferences\n",
    "\n",
    "    input: number of candidates, number of voters\n",
    "    output: pref_schedule is dictionary: \n",
    "        keys are tuples of candidate names, \n",
    "        values are number of votes\n",
    "  '''\n",
    "  candidates = get_candidate_list(num_candidates)\n",
    "  pref_schedule = dict()\n",
    "  num_voted = 0\n",
    "  for preference in itertools.permutations(candidates):\n",
    "    print(\"How many voters have the preference \" + str(preference) + \"?\")\n",
    "    votes = get_int_input()\n",
    "    pref_schedule[preference] = votes\n",
    "    num_voted += votes\n",
    "    if num_voted >= num_voters:\n",
    "      break\n",
    "  return pref_schedule\n",
    "\n",
    "def get_input_pref_schedule_by_input(num_candidates, num_voters):\n",
    "  '''\n",
    "    asks for user to input preference schedule manually\n",
    "\n",
    "    input: number of candidates, number of voters\n",
    "    output: pref_schedule is dictionary: \n",
    "        keys are tuples of candidate names, \n",
    "        values are number of votes\n",
    "  '''\n",
    "  candidates = get_candidate_list(num_candidates)\n",
    "  pref_schedule = dict()\n",
    "  num_voted = 0\n",
    "  print(\"The candidate names are \" + str(candidates))\n",
    "  print(\"Please input candidate orderings with no spaces, e.g. ABCD or DACBE\")\n",
    "  while num_voted < num_voters:\n",
    "    print(\"Input the next candidate ordering: \")\n",
    "    pref = get_pref_input()\n",
    "    print(\"How many voters had the preference \" + str(pref) + \"?\")\n",
    "    votes = get_int_input()\n",
    "    pref_schedule[tuple(pref)] = votes\n",
    "    num_voted += votes\n",
    "  return pref_schedule\n",
    "\n",
    "def main():\n",
    "  print(\"How many candidates are running?\")\n",
    "  num_candidates = get_int_input()\n",
    "  print(\"How many voters are there?\")\n",
    "  num_voters = get_int_input()\n",
    "  print(\"Input the reduced preference schedule: \")\n",
    "  pref_schedule = get_input_pref_schedule_by_input(num_candidates, num_voters)\n",
    "  # compute the winners by various methods\n",
    "  plurality_winner = get_plurality_winner(pref_schedule)\n",
    "  print(\"The winner set by the plurality method is \" + str(plurality_winner) +\".\")\n",
    "  borda_winner = get_borda_winner(pref_schedule)\n",
    "  print(\"The winner set by the Borda count method is \" + str(borda_winner) + \".\")\n",
    "\n",
    "main()"
   ]
  },
  {
   "cell_type": "code",
   "execution_count": 10,
   "metadata": {
    "colab": {
     "base_uri": "https://localhost:8080/"
    },
    "executionInfo": {
     "elapsed": 238,
     "status": "ok",
     "timestamp": 1612882385961,
     "user": {
      "displayName": "Talia Blum",
      "photoUrl": "",
      "userId": "12977493366065067313"
     },
     "user_tz": 300
    },
    "id": "lqIqb3Z1NIwD",
    "outputId": "73747611-b1a5-4b41-acbf-cd1594d75dfd"
   },
   "outputs": [
    {
     "data": {
      "text/plain": [
       "3"
      ]
     },
     "execution_count": 10,
     "metadata": {
      "tags": []
     },
     "output_type": "execute_result"
    }
   ],
   "source": [
    "1 + 2"
   ]
  },
  {
   "cell_type": "code",
   "execution_count": 11,
   "metadata": {
    "colab": {
     "base_uri": "https://localhost:8080/",
     "height": 35
    },
    "executionInfo": {
     "elapsed": 254,
     "status": "ok",
     "timestamp": 1612882407986,
     "user": {
      "displayName": "Talia Blum",
      "photoUrl": "",
      "userId": "12977493366065067313"
     },
     "user_tz": 300
    },
    "id": "mQKx5GuRSBr6",
    "outputId": "11ce9f6e-aa28-4ed5-aead-38e87b31dede"
   },
   "outputs": [
    {
     "data": {
      "application/vnd.google.colaboratory.intrinsic+json": {
       "type": "string"
      },
      "text/plain": [
       "'string1string2'"
      ]
     },
     "execution_count": 11,
     "metadata": {
      "tags": []
     },
     "output_type": "execute_result"
    }
   ],
   "source": [
    "\"string1\" + \"string2\""
   ]
  },
  {
   "cell_type": "code",
   "execution_count": 12,
   "metadata": {
    "colab": {
     "base_uri": "https://localhost:8080/",
     "height": 35
    },
    "executionInfo": {
     "elapsed": 291,
     "status": "ok",
     "timestamp": 1612882432044,
     "user": {
      "displayName": "Talia Blum",
      "photoUrl": "",
      "userId": "12977493366065067313"
     },
     "user_tz": 300
    },
    "id": "9QhfLdocSHEM",
    "outputId": "a94680b3-4066-4611-eafd-925afd6a5d34"
   },
   "outputs": [
    {
     "data": {
      "application/vnd.google.colaboratory.intrinsic+json": {
       "type": "string"
      },
      "text/plain": [
       "'1 egg'"
      ]
     },
     "execution_count": 12,
     "metadata": {
      "tags": []
     },
     "output_type": "execute_result"
    }
   ],
   "source": [
    "\"1 \" + \"egg\""
   ]
  },
  {
   "cell_type": "code",
   "execution_count": 13,
   "metadata": {
    "colab": {
     "base_uri": "https://localhost:8080/",
     "height": 35
    },
    "executionInfo": {
     "elapsed": 331,
     "status": "ok",
     "timestamp": 1612882526040,
     "user": {
      "displayName": "Talia Blum",
      "photoUrl": "",
      "userId": "12977493366065067313"
     },
     "user_tz": 300
    },
    "id": "JeNIythfSM7d",
    "outputId": "80b5599d-f9de-4476-c461-578a8a07caa5"
   },
   "outputs": [
    {
     "data": {
      "application/vnd.google.colaboratory.intrinsic+json": {
       "type": "string"
      },
      "text/plain": [
       "'ab'"
      ]
     },
     "execution_count": 13,
     "metadata": {
      "tags": []
     },
     "output_type": "execute_result"
    }
   ],
   "source": [
    "1 + 2\n",
    "1+3\n",
    "4+5\n",
    "\"a\" + \"b\""
   ]
  },
  {
   "cell_type": "code",
   "execution_count": 14,
   "metadata": {
    "colab": {
     "base_uri": "https://localhost:8080/"
    },
    "executionInfo": {
     "elapsed": 534,
     "status": "ok",
     "timestamp": 1612882544995,
     "user": {
      "displayName": "Talia Blum",
      "photoUrl": "",
      "userId": "12977493366065067313"
     },
     "user_tz": 300
    },
    "id": "iTHntfvDSj3g",
    "outputId": "f7229a49-1338-4e41-c6fb-3eb5ffac6f8b"
   },
   "outputs": [
    {
     "name": "stdout",
     "output_type": "stream",
     "text": [
      "3\n",
      "4\n"
     ]
    }
   ],
   "source": [
    "print(1+2)\n",
    "print(1+3)"
   ]
  },
  {
   "cell_type": "code",
   "execution_count": 15,
   "metadata": {
    "executionInfo": {
     "elapsed": 224,
     "status": "ok",
     "timestamp": 1612882638360,
     "user": {
      "displayName": "Talia Blum",
      "photoUrl": "",
      "userId": "12977493366065067313"
     },
     "user_tz": 300
    },
    "id": "GR54z82MSocl"
   },
   "outputs": [],
   "source": [
    "a = 3"
   ]
  },
  {
   "cell_type": "code",
   "execution_count": 16,
   "metadata": {
    "colab": {
     "base_uri": "https://localhost:8080/",
     "height": 132
    },
    "executionInfo": {
     "elapsed": 233,
     "status": "error",
     "timestamp": 1612882651124,
     "user": {
      "displayName": "Talia Blum",
      "photoUrl": "",
      "userId": "12977493366065067313"
     },
     "user_tz": 300
    },
    "id": "lOz5fe_FS_UO",
    "outputId": "db7f2c60-0a0d-47c7-c82c-1dd490b5325b"
   },
   "outputs": [
    {
     "ename": "SyntaxError",
     "evalue": "ignored",
     "output_type": "error",
     "traceback": [
      "\u001b[0;36m  File \u001b[0;32m\"<ipython-input-16-43e3f71d2982>\"\u001b[0;36m, line \u001b[0;32m1\u001b[0m\n\u001b[0;31m    int a = 3\u001b[0m\n\u001b[0m        ^\u001b[0m\n\u001b[0;31mSyntaxError\u001b[0m\u001b[0;31m:\u001b[0m invalid syntax\n"
     ]
    }
   ],
   "source": [
    "int a = 3"
   ]
  },
  {
   "cell_type": "code",
   "execution_count": null,
   "metadata": {
    "id": "5e9g5hItTCbi"
   },
   "outputs": [],
   "source": []
  }
 ],
 "metadata": {
  "colab": {
   "authorship_tag": "ABX9TyMW8C6Q0EikHzRiGRo4lVZ3",
   "collapsed_sections": [],
   "name": "week2-demo.ipynb",
   "provenance": []
  },
  "kernelspec": {
   "display_name": "Python 3",
   "language": "python",
   "name": "python3"
  },
  "language_info": {
   "codemirror_mode": {
    "name": "ipython",
    "version": 3
   },
   "file_extension": ".py",
   "mimetype": "text/x-python",
   "name": "python",
   "nbconvert_exporter": "python",
   "pygments_lexer": "ipython3",
   "version": "3.7.9"
  }
 },
 "nbformat": 4,
 "nbformat_minor": 1
}
