{
 "cells": [
  {
   "cell_type": "markdown",
   "id": "wooden-mauritius",
   "metadata": {},
   "source": [
    "### Functions in python\n",
    "\n",
    "So far, we've learned how to:\n",
    "* make variables like integers, floats, strings, booleans, and lists \n",
    "* use basic operations like + , - , * , / \n",
    "* use the `print()` operation to print from our code\n",
    "* use conditionals i.e if-else statements\n",
    "* write `for` loops to execute code multiple times\n",
    "\n",
    "**Recall that to run code in these cells, press the play button in the sidebar, or use the keys Shift+Enter!**\n",
    "\n",
    "**Example.** The code below creates a list called `my_list`, and then uses a for loop to print out each element in the list."
   ]
  },
  {
   "cell_type": "code",
   "execution_count": null,
   "id": "muslim-catch",
   "metadata": {},
   "outputs": [],
   "source": [
    "my_list = [\"a\", \"b\", \"c\", \"d\", \"e\"]  # initialize list\n",
    "for item in my_list:\n",
    "    print(item)"
   ]
  },
  {
   "cell_type": "markdown",
   "id": "coupled-delta",
   "metadata": {},
   "source": [
    "The operation `print(item)` in the code above is an example of calling a function. The name of the function is `print`, and we are passing it a *parameter* `item` by putting that inside the parentheses.\n",
    "\n",
    "We can write our own functions! \n",
    "\n",
    "**Example.** The code below is a function called `says_hello` that takes in a string and says hello to you."
   ]
  },
  {
   "cell_type": "code",
   "execution_count": null,
   "id": "interim-humidity",
   "metadata": {},
   "outputs": [],
   "source": [
    "def says_hello(your_name):\n",
    "    print(\"Hello \" + your_name + \"!\")"
   ]
  },
  {
   "cell_type": "markdown",
   "id": "opening-arthur",
   "metadata": {},
   "source": [
    "This code won't do anything until we call the function!\n",
    "\n",
    "(*tip:* if the following line of code isn't working, make sure you've ran the code that defines the function above!)"
   ]
  },
  {
   "cell_type": "code",
   "execution_count": null,
   "id": "electoral-laundry",
   "metadata": {},
   "outputs": [],
   "source": [
    "says_hello(\"Talia\")"
   ]
  },
  {
   "cell_type": "markdown",
   "id": "refined-monitoring",
   "metadata": {},
   "source": [
    "**Task 1.** Use the function `says_hello` to say hello to you!"
   ]
  },
  {
   "cell_type": "code",
   "execution_count": null,
   "id": "noted-alloy",
   "metadata": {},
   "outputs": [],
   "source": []
  },
  {
   "cell_type": "markdown",
   "id": "severe-bundle",
   "metadata": {},
   "source": [
    "**Task 2.** Write a function called `says_goodbye` that takes in a string and says goodbye to it. Call the function."
   ]
  },
  {
   "cell_type": "code",
   "execution_count": null,
   "id": "willing-concentrate",
   "metadata": {},
   "outputs": [],
   "source": []
  },
  {
   "cell_type": "markdown",
   "id": "divine-avatar",
   "metadata": {},
   "source": [
    "### Returning values\n",
    "\n",
    "We can ask functions to \"return\" a value too! A `return` statement signifies the end of a function, and tells the computer to return to the line of code that called the function.\n",
    "\n",
    "**Example.** The function `adds_10` takes in a number, and returns that number plus 10."
   ]
  },
  {
   "cell_type": "code",
   "execution_count": null,
   "id": "dietary-virgin",
   "metadata": {},
   "outputs": [],
   "source": [
    "def adds_10(a):\n",
    "    return a + 10\n",
    "\n",
    "print(adds_10(5))\n",
    "print(adds_10(12))\n",
    "print(adds_10(19))"
   ]
  },
  {
   "cell_type": "markdown",
   "id": "fallen-bumper",
   "metadata": {},
   "source": [
    "**Task 3.** Write a function `adds_10_to_first_list_item` that takes in a list of numbers, and returns the value of the first item in the list plus 10."
   ]
  },
  {
   "cell_type": "code",
   "execution_count": null,
   "id": "bottom-dating",
   "metadata": {},
   "outputs": [],
   "source": []
  },
  {
   "cell_type": "markdown",
   "id": "single-barrier",
   "metadata": {},
   "source": [
    "**Task 4.** Test your function `adds_10_to_first_list_item` by creating a list of numbers and passing it to the function. Print out the result."
   ]
  },
  {
   "cell_type": "code",
   "execution_count": null,
   "id": "applicable-probe",
   "metadata": {},
   "outputs": [],
   "source": []
  },
  {
   "cell_type": "markdown",
   "id": "julian-killer",
   "metadata": {},
   "source": [
    "A function can contain multiple return statements, as long as they are inside conditional statements.\n",
    "\n",
    "**Example.** The following code takes in a number, and returns the absolute value of that number."
   ]
  },
  {
   "cell_type": "code",
   "execution_count": null,
   "id": "synthetic-greenhouse",
   "metadata": {},
   "outputs": [],
   "source": [
    "def make_nonnegative(number):\n",
    "    if number >= 0:\n",
    "        return number\n",
    "    elif number < 0:\n",
    "        return -1*number"
   ]
  },
  {
   "cell_type": "markdown",
   "id": "nutritional-pressing",
   "metadata": {},
   "source": [
    "**Task 5.** Call the function `make_nonnegative` on a positive number, a negative number, and 0, and print the results."
   ]
  },
  {
   "cell_type": "code",
   "execution_count": null,
   "id": "impossible-mills",
   "metadata": {},
   "outputs": [],
   "source": []
  },
  {
   "cell_type": "markdown",
   "id": "casual-smile",
   "metadata": {},
   "source": [
    "### Parameters\n",
    "\n",
    "We've seen examples of functions with one parameter, but a function can have any number of parameters! For multiple parameters, separate them by commas.\n",
    "\n",
    "**Example.** The following functions print out their parameters. Note that they return nothing, but the return statement signifies the end of the function."
   ]
  },
  {
   "cell_type": "code",
   "execution_count": null,
   "id": "constant-separation",
   "metadata": {},
   "outputs": [],
   "source": [
    "def function_with_no_parameters():\n",
    "    print('This function has no parameters')\n",
    "    return\n",
    "\n",
    "def function_with_3_parameters(param1, param2, param3):\n",
    "    print('The first parameter is: ' + str(param1))\n",
    "    print('The second parameter is: ' + str(param2))\n",
    "    print('The third parameter is: ' + str(param3))\n",
    "    return\n",
    "\n",
    "\n",
    "function_with_no_parameters()\n",
    "function_with_3_parameters(\"how\", \"are\", \"you\")"
   ]
  },
  {
   "cell_type": "markdown",
   "id": "ranking-disco",
   "metadata": {},
   "source": [
    "**Task 6.** Write a function called `compare_numbers` with two parameters `a` and `b` which are numbers. Use conditional statements to print either \"The first number is greater\", \"The second number is greater\", or \"The two numbers are equal\", based on which is true."
   ]
  },
  {
   "cell_type": "code",
   "execution_count": null,
   "id": "laughing-manner",
   "metadata": {},
   "outputs": [],
   "source": []
  },
  {
   "cell_type": "markdown",
   "id": "personalized-undergraduate",
   "metadata": {},
   "source": [
    "**Task 7.** Run the following code to test your function `compare_numbers`."
   ]
  },
  {
   "cell_type": "code",
   "execution_count": null,
   "id": "applicable-original",
   "metadata": {},
   "outputs": [],
   "source": [
    "print(compare_numbers(3,7))\n",
    "print(compare_numbers(4,-100))\n",
    "print(compare_numbers(200,200))"
   ]
  },
  {
   "cell_type": "markdown",
   "id": "hydraulic-arabic",
   "metadata": {},
   "source": [
    "**Task 8.** Write a function called `sum_list` that takes in a list of numbers and returns the sum of the numbers in the list. (*Hint:* use a for loop)"
   ]
  },
  {
   "cell_type": "code",
   "execution_count": null,
   "id": "technical-context",
   "metadata": {},
   "outputs": [],
   "source": []
  },
  {
   "cell_type": "markdown",
   "id": "structured-trade",
   "metadata": {},
   "source": [
    "**Task 9.** Test your function using the following code! Try writing your own tests too. "
   ]
  },
  {
   "cell_type": "code",
   "execution_count": null,
   "id": "legendary-allocation",
   "metadata": {},
   "outputs": [],
   "source": [
    "print(sum_list([1,2,3,4,5]))\n",
    "print(sum_list([2,2]))\n",
    "print(sum_list([-50000]))\n",
    "print(sum_list([-12.19, 12.19, 10000000, 10, 1,1,1,1,1,1,1,1,1,1]))"
   ]
  }
 ],
 "metadata": {
  "kernelspec": {
   "display_name": "Python 3",
   "language": "python",
   "name": "python3"
  },
  "language_info": {
   "codemirror_mode": {
    "name": "ipython",
    "version": 3
   },
   "file_extension": ".py",
   "mimetype": "text/x-python",
   "name": "python",
   "nbconvert_exporter": "python",
   "pygments_lexer": "ipython3",
   "version": "3.7.9"
  }
 },
 "nbformat": 4,
 "nbformat_minor": 5
}
