{
 "cells": [
  {
   "cell_type": "markdown",
   "metadata": {},
   "source": [
    "### Variable scope, and Dictionaries\n",
    "\n",
    "So far, we've learned how to:\n",
    "\n",
    "* make variables like integers, floats, strings, booleans, and lists\n",
    "* use basic operations like + , - , * , /\n",
    "* use the print() operation to print from our code\n",
    "* use conditionals i.e if-else statements\n",
    "* write for loops to execute code multiple times\n",
    "* how to package chunks of code into functions\n",
    "\n",
    "**Recall that to run code in these cells, press the play button in the sidebar, or use the keys Shift+Enter!**\n",
    "\n",
    "**Example.** The code below defines a function that prints a string _n_ number of times."
   ]
  },
  {
   "cell_type": "code",
   "execution_count": 3,
   "metadata": {},
   "outputs": [
    {
     "name": "stdout",
     "output_type": "stream",
     "text": [
      "Math19\n",
      "Math19\n",
      "Math19\n"
     ]
    }
   ],
   "source": [
    "def print_n_times(string, n):\n",
    "    \"\"\" string: the string to print\n",
    "        n     : the number of times to print\n",
    "    \"\"\"\n",
    "    for i in range(n):\n",
    "        print(string)\n",
    "        \n",
    "print_n_times(\"Math19\", 3)"
   ]
  },
  {
   "cell_type": "markdown",
   "metadata": {},
   "source": [
    "**Task 1**\n",
    "\n",
    "What do you think the following code will do, if uncommented? Write your expected output below, and then uncomment the code to execute this cell again. \n",
    "\n",
    "A: \n",
    "\n",
    "\n",
    "Did you expect this result? Why/ Why not?\n",
    "\n",
    "A: "
   ]
  },
  {
   "cell_type": "code",
   "execution_count": 10,
   "metadata": {},
   "outputs": [],
   "source": [
    "x = 1\n",
    "\n",
    "def print_number():\n",
    "    x = 2\n",
    "    print(x)\n",
    "\n",
    "#print(x)\n",
    "#print_number()\n",
    "#print(x)"
   ]
  },
  {
   "cell_type": "markdown",
   "metadata": {},
   "source": [
    "In the previous example, when we assigned ```x = 1``` we set the value of x to be 1 in the **global** scope.\n",
    "\n",
    "When we entered the function ```print_number()```, we set the value ```x = 2``` in the **local** scope, i.e the value of x is only 2 within the function. When we entered  the function ```print_number()```, the program forgets everything it learned outside the function. When we set ```x = 2``` the value of x is set to be 2 _within the function_. When we exit the function, the program discards that it learnt the value of x to be 2 inside the function. It is back into the **global** scope again, where the value of x is still 1.\n",
    "\n",
    "\n",
    "**Task 2**\n",
    "\n",
    "What do you think the following code will do, if uncommented? (Note that the code has been modified since the last cell). Write your expected output below, and then uncomment the code to execute this cell again. \n",
    "\n",
    "A: \n",
    "\n",
    "\n",
    "Did you expect this result? Why/ Why not? Can you explain what you observe?\n",
    "\n",
    "A: "
   ]
  },
  {
   "cell_type": "code",
   "execution_count": 15,
   "metadata": {},
   "outputs": [],
   "source": [
    "x = 1\n",
    "\n",
    "def print_number():\n",
    "    print(x)\n",
    "    x = 2\n",
    "    print(x)\n",
    "    \n",
    "#print(x)\n",
    "#print_number()\n",
    "#print(x)"
   ]
  },
  {
   "cell_type": "markdown",
   "metadata": {},
   "source": [
    "**Task 3**\n",
    "\n",
    "What do you think the following code will do, if uncommented? (Again, note that the code has been modified since the last cell). Write your expected output below, and then uncomment the code to execute this cell again. \n",
    "\n",
    "A: \n",
    "\n",
    "\n",
    "Did you expect this result? Why/ Why not? Can you explain what you observe?\n",
    "\n",
    "A: "
   ]
  },
  {
   "cell_type": "code",
   "execution_count": 17,
   "metadata": {},
   "outputs": [],
   "source": [
    "x = 1\n",
    "\n",
    "def print_number(x):\n",
    "    print(x)\n",
    "    x = 2\n",
    "    print(x)\n",
    "    \n",
    "# print(x)\n",
    "# print_number(x)\n",
    "# print(x)"
   ]
  },
  {
   "cell_type": "markdown",
   "metadata": {},
   "source": [
    "**Task 4**\n",
    "\n",
    "Explain below what the value of `x` is, both globally and locally, at each step of the following program. Explain each time why the local or global value changed or stayed the same.\n",
    "\n",
    "A:"
   ]
  },
  {
   "cell_type": "code",
   "execution_count": 18,
   "metadata": {},
   "outputs": [
    {
     "name": "stdout",
     "output_type": "stream",
     "text": [
      "2\n"
     ]
    }
   ],
   "source": [
    "x = 1\n",
    "\n",
    "def return_number():\n",
    "    x = 2\n",
    "    return x\n",
    "\n",
    "x = return_number()\n",
    "print(x)"
   ]
  },
  {
   "cell_type": "markdown",
   "metadata": {},
   "source": [
    "### Dictionaries\n",
    "\n",
    "Dictionaries are a way to store data, and they work exactly as they sound like! \n",
    "\n",
    "When you look up a word in a dictionary, you are trying to find the meaning of that word. More generally, you are trying to find a _value_ associated with the word."
   ]
  },
  {
   "cell_type": "code",
   "execution_count": 23,
   "metadata": {},
   "outputs": [
    {
     "name": "stdout",
     "output_type": "stream",
     "text": [
      "{'condorcet': 'a candidate who beats every other candidate in a head to head comparison'}\n",
      "a candidate who beats every other candidate in a head to head comparison\n"
     ]
    }
   ],
   "source": [
    "# intialize the dictionary\n",
    "my_dict = dict()\n",
    "\n",
    "# set the value to a key. Here 'condorcet' is the key, and the definition is the value.\n",
    "my_dict[\"condorcet\"] = \"a candidate who beats every other candidate in a head to head comparison\"\n",
    "\n",
    "print(my_dict)\n",
    "print(my_dict[\"condorcet\"])"
   ]
  },
  {
   "cell_type": "markdown",
   "metadata": {},
   "source": [
    "You can set the keys to be of any data type, and the values to be of any data type.\n",
    "\n",
    "**Task 5:** Assign values \"a\", \"b\" and \"c\" to keys 1, 2 and 3 respectively to a dictionary. What happens if you try to look up the value of the key 4? "
   ]
  },
  {
   "cell_type": "code",
   "execution_count": null,
   "metadata": {},
   "outputs": [],
   "source": []
  },
  {
   "cell_type": "markdown",
   "metadata": {},
   "source": [
    "**Task 6:** Write a function that squares a given number. Then, use a for-loop for keys from 0 to 10 (inclusive) and assign the squared value of each key as the value for that key in a dictionary."
   ]
  },
  {
   "cell_type": "code",
   "execution_count": null,
   "metadata": {},
   "outputs": [],
   "source": []
  },
  {
   "cell_type": "markdown",
   "metadata": {},
   "source": [
    "**Task 7:** Delete the entry associated with the key 7 from the dictionary you just created. (Note: we haven't learned that in this notebook, you will have to Google this!)"
   ]
  },
  {
   "cell_type": "code",
   "execution_count": null,
   "metadata": {},
   "outputs": [],
   "source": []
  },
  {
   "cell_type": "markdown",
   "metadata": {},
   "source": [
    "You can iterate over the keys and values in a dictionary in the following way:"
   ]
  },
  {
   "cell_type": "code",
   "execution_count": 30,
   "metadata": {},
   "outputs": [
    {
     "name": "stdout",
     "output_type": "stream",
     "text": [
      "Printing the keys\n",
      "a\n",
      "b\n",
      "\n",
      "Printing the values\n",
      "5\n",
      "10\n",
      "\n",
      "Printing both keys and values\n",
      "a 5\n",
      "b 10\n"
     ]
    }
   ],
   "source": [
    "# initialize dict and add values\n",
    "my_dict = dict()\n",
    "my_dict[\"a\"] = 5\n",
    "my_dict[\"b\"] = 10\n",
    "\n",
    "print(\"Printing the keys\")\n",
    "for key in my_dict.keys():\n",
    "    print(key)\n",
    "\n",
    "print()\n",
    "print(\"Printing the values\")\n",
    "for value in my_dict.values():\n",
    "    print(value)\n",
    "\n",
    "print()\n",
    "print(\"Printing both keys and values\")\n",
    "for key, value in my_dict.items():\n",
    "    print(key, value)"
   ]
  },
  {
   "cell_type": "markdown",
   "metadata": {},
   "source": [
    "**Task 8:** \n",
    "Write a function _f_ that takes in one parameter _n_. The function then should initialize a dictionary, and then for each key from 0 to _n_ have an associated value of _n_ + 10. Return that dictionary. \n",
    "Write another function _g_ that takes in a dictionary, subtracts 1 from all the values in the dictionary, and returns it. \n",
    "\n",
    "Call _f_ with n = 5. Then pass the resulting dictionary to _g_ and print the return value of _g_."
   ]
  },
  {
   "cell_type": "code",
   "execution_count": null,
   "metadata": {},
   "outputs": [],
   "source": []
  }
 ],
 "metadata": {
  "kernelspec": {
   "display_name": "Python 3",
   "language": "python",
   "name": "python3"
  },
  "language_info": {
   "codemirror_mode": {
    "name": "ipython",
    "version": 3
   },
   "file_extension": ".py",
   "mimetype": "text/x-python",
   "name": "python",
   "nbconvert_exporter": "python",
   "pygments_lexer": "ipython3",
   "version": "3.7.4"
  }
 },
 "nbformat": 4,
 "nbformat_minor": 4
}
