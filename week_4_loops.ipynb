{
 "cells": [
  {
   "cell_type": "markdown",
   "metadata": {},
   "source": [
    "## Lists and Loops\n",
    "\n",
    "So far, we have learned how to:\n",
    "\n",
    "* make variables like integers, floats, strings, and booleans;\n",
    "* use basic operations like + , - , * , /\n",
    "* use the \"print()\" operation to print from our code\n",
    "* use conditionals i.e if-else statements\n",
    "\n",
    "Recall that to run code in these cells, press the play button in the sidebar, or use the keys Shift+Enter!\n",
    "\n",
    "***Example.*** The code below creates a variable called \"a\" with the value of 3. Then, it reassigns the value of \"a\" to be \"a+4\", which is 7. Finally, it prints a sentence stating the value of \"a\".\n",
    "\n",
    "Arrays:\n",
    "* Indexing\n",
    "* replace"
   ]
  },
  {
   "cell_type": "code",
   "execution_count": 1,
   "metadata": {},
   "outputs": [
    {
     "name": "stdout",
     "output_type": "stream",
     "text": [
      "The value of a is 7.\n"
     ]
    }
   ],
   "source": [
    "a = 3\n",
    "a = a + 4\n",
    "print(\"The value of a is \" + str(a) + \".\")"
   ]
  },
  {
   "cell_type": "markdown",
   "metadata": {},
   "source": [
    "In this example, the variable \"a\" stored an integer. We also know that variables can store floating point numbers (numbers with decimal values, like 0.43), strings (like \"hello\") and booleans (like \"True\"). We can also have variables that store _lists_ of things, like in the given example."
   ]
  },
  {
   "cell_type": "code",
   "execution_count": 2,
   "metadata": {},
   "outputs": [
    {
     "name": "stdout",
     "output_type": "stream",
     "text": [
      "[2, 4, 6, 8]\n"
     ]
    }
   ],
   "source": [
    "my_list = [2, 4, 6, 8]\n",
    "print(my_list)"
   ]
  },
  {
   "cell_type": "markdown",
   "metadata": {},
   "source": [
    "***Task 1***. Initialize a variable called \"str_list\" that is a list of any 4 words. "
   ]
  },
  {
   "cell_type": "code",
   "execution_count": null,
   "metadata": {},
   "outputs": [],
   "source": []
  },
  {
   "cell_type": "markdown",
   "metadata": {},
   "source": [
    "***Task 2***. Initialize a variable called \"mixed_list\" that is a list containing 1 string, 1 integer, 1 float and 1 boolean. "
   ]
  },
  {
   "cell_type": "code",
   "execution_count": null,
   "metadata": {},
   "outputs": [],
   "source": []
  },
  {
   "cell_type": "markdown",
   "metadata": {},
   "source": [
    "***Task 3***. A list could also be empty! Initialize an empty list."
   ]
  },
  {
   "cell_type": "code",
   "execution_count": null,
   "metadata": {},
   "outputs": [],
   "source": []
  },
  {
   "cell_type": "markdown",
   "metadata": {},
   "source": [
    "### Common list operations\n",
    "\n",
    "There are many operations that you could do with lists! We will walk through a few common ones:\n",
    "\n",
    "***Add to end of list***\n",
    "\n",
    "Use the `.append()` functionality to add to the end of a list."
   ]
  },
  {
   "cell_type": "code",
   "execution_count": null,
   "metadata": {},
   "outputs": [],
   "source": [
    "my_list = [\"dog\", \"cat\"] # initialize list\n",
    "my_list.append(\"rat\")    # add to end of list\n",
    "print(my_list)"
   ]
  },
  {
   "cell_type": "markdown",
   "metadata": {},
   "source": [
    "***Length*** \n",
    "\n",
    "Use the `len()` functionality to find the length of a list."
   ]
  },
  {
   "cell_type": "code",
   "execution_count": null,
   "metadata": {},
   "outputs": [],
   "source": [
    "length = len(my_list)\n",
    "print(length)"
   ]
  },
  {
   "cell_type": "markdown",
   "metadata": {},
   "source": [
    "***Task 4***. Initialize an empty list. Print the length of the list. Add 3 integers to the list, one by one. Print the length of the final list."
   ]
  },
  {
   "cell_type": "code",
   "execution_count": null,
   "metadata": {},
   "outputs": [],
   "source": []
  },
  {
   "cell_type": "markdown",
   "metadata": {},
   "source": [
    "***Indexing***\n",
    "\n",
    "Often times we want to retrieve the elements in a list by their position (i.e _index_) in the list. \n",
    "\n",
    "Interestingly, the first element in the list is at the 0th index! And the second element is at index 1!\n",
    "\n",
    "Hopefully the following example will help elucidate this:"
   ]
  },
  {
   "cell_type": "code",
   "execution_count": null,
   "metadata": {},
   "outputs": [],
   "source": [
    "my_list = [\"a\", \"b\", \"c\", \"d\", \"e\"]  # initialize list\n",
    "print(my_list[0])"
   ]
  },
  {
   "cell_type": "code",
   "execution_count": null,
   "metadata": {},
   "outputs": [],
   "source": [
    "print(my_list[1])"
   ]
  },
  {
   "cell_type": "markdown",
   "metadata": {},
   "source": [
    "***Task 5***. Print the 3rd and 5th elements of the above list. Note: these aren't the same as the elements in index 3 and index 5! What happens when you try to access index 10?"
   ]
  },
  {
   "cell_type": "code",
   "execution_count": null,
   "metadata": {},
   "outputs": [],
   "source": []
  },
  {
   "cell_type": "markdown",
   "metadata": {},
   "source": [
    "### For Loops\n",
    "\n",
    "Now that we know how to make lists, we will often find ourselves in need of iterating over a list. You could do it index by index, as we did in the last Task, but what if the list has thousands of items?\n",
    "\n",
    "In such cases, we will want to _loop_ over the list in the following fashion:"
   ]
  },
  {
   "cell_type": "code",
   "execution_count": null,
   "metadata": {},
   "outputs": [],
   "source": [
    "# Let's print everything in the list\n",
    "for letter in my_list:\n",
    "    print(letter)"
   ]
  },
  {
   "cell_type": "markdown",
   "metadata": {},
   "source": [
    "Nice!\n",
    "\n",
    "For each item in the list, we store the item in the variable \"letter\" and then print it.\n",
    "\n",
    "Similarly, we can iterate over number ranges too, using the `range()` functionality:"
   ]
  },
  {
   "cell_type": "code",
   "execution_count": null,
   "metadata": {},
   "outputs": [],
   "source": [
    "for i in range(10):\n",
    "    print(i)"
   ]
  },
  {
   "cell_type": "markdown",
   "metadata": {},
   "source": [
    "Notice that our loop started at 0, and then stopped right before 10, which is the number we entered in `range()`. How could you modify the code if you also wanted to print 10?\n",
    "\n",
    "Let's get started writing our first loop!\n",
    "\n",
    "***Task 6***. Write a for loop that prints the double of every number from 0 to 7. (including 0 but not including 7)"
   ]
  },
  {
   "cell_type": "code",
   "execution_count": null,
   "metadata": {},
   "outputs": [],
   "source": []
  },
  {
   "cell_type": "markdown",
   "metadata": {},
   "source": [
    "***Task 7*** Write a for loop that creates a list of the numbers you printed in Task 6. You will need to initialize an empty list first, and then append to it inside the for loop."
   ]
  },
  {
   "cell_type": "code",
   "execution_count": null,
   "metadata": {},
   "outputs": [],
   "source": []
  },
  {
   "cell_type": "markdown",
   "metadata": {},
   "source": [
    "### Extra Credit"
   ]
  },
  {
   "cell_type": "markdown",
   "metadata": {},
   "source": [
    "***Task 8***. For the list given below, print each item _using the index of the item in the list_. Could you find a way to make use of `len()` functionality?"
   ]
  },
  {
   "cell_type": "code",
   "execution_count": null,
   "metadata": {},
   "outputs": [],
   "source": [
    "my_list = [\"a\", \"b\", \"c\", \"d\", \"e\", \"f\", \"g\", \"h\", \"i\", \"j\"]\n",
    "\n"
   ]
  },
  {
   "cell_type": "markdown",
   "metadata": {},
   "source": [
    "***Task 9***. The `x % y` operator tells you the remainder obtained when dividing `x` by `y`. For example,"
   ]
  },
  {
   "cell_type": "code",
   "execution_count": null,
   "metadata": {},
   "outputs": [],
   "source": [
    "print(23 % 2)\n",
    "print(4 % 2)\n",
    "print(10 % 3)\n",
    "print(11 % 3)"
   ]
  },
  {
   "cell_type": "markdown",
   "metadata": {},
   "source": [
    "Make a for loop that iterates on `range(10)`, and only print the numbers that are even. You will need to use the conditional `if else` statements you learnt last week. "
   ]
  },
  {
   "cell_type": "code",
   "execution_count": null,
   "metadata": {},
   "outputs": [],
   "source": []
  }
 ],
 "metadata": {
  "kernelspec": {
   "display_name": "Python 3",
   "language": "python",
   "name": "python3"
  },
  "language_info": {
   "codemirror_mode": {
    "name": "ipython",
    "version": 3
   },
   "file_extension": ".py",
   "mimetype": "text/x-python",
   "name": "python",
   "nbconvert_exporter": "python",
   "pygments_lexer": "ipython3",
   "version": "3.7.4"
  }
 },
 "nbformat": 4,
 "nbformat_minor": 4
}
